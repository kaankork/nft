{
 "cells": [
  {
   "cell_type": "markdown",
   "metadata": {},
   "source": [
    "# OpenSea NFT API\n",
    "https://docs.opensea.io/reference/api-overview"
   ]
  },
  {
   "cell_type": "code",
   "execution_count": 1,
   "metadata": {},
   "outputs": [],
   "source": [
    "import json\n",
    "import requests"
   ]
  },
  {
   "cell_type": "markdown",
   "metadata": {},
   "source": [
    "## Filters (Query Parameters)"
   ]
  },
  {
   "cell_type": "code",
   "execution_count": 2,
   "metadata": {},
   "outputs": [],
   "source": [
    "filters_assets = {\n",
    "    \"owner\":'',\n",
    "    \"token_ids\":'1',\n",
    "    \"asset_contract_address\":'',\n",
    "    \"asset_contract_addresses\":'',\n",
    "    \"order_by\":'',\n",
    "    \"order_direction\":'',\n",
    "    \"offset\":'',\n",
    "    \"limit\":'',\n",
    "    \"collection\":'mutant-ape-yacht-club'\n",
    "}\n",
    "\n",
    "filters_events = {\n",
    "    \"asset_contract_address\":'',\n",
    "    \"collection_slug\":'',\n",
    "    \"token_id\":'',\n",
    "    \"account_address\":'',\n",
    "    \"event_type\":'',\n",
    "    \"only_opensea\":'false',\n",
    "    \"auction_type\":'',\n",
    "    \"offset\":0,\n",
    "    \"limit\":20,\n",
    "    \"occurred_before\":'',\n",
    "    \"occurred_after\":''\n",
    "}\n",
    "\n",
    "filters_collections = {\n",
    "    \"asset_owner\":\"\",\n",
    "    \"offset\":0,\n",
    "    \"limit\":300\n",
    "}\n",
    "\n",
    "filters_bundles = {\n",
    "    \"on_sale\":\"\",\n",
    "    \"owner\":\"\",\n",
    "    \"asset_contract_address\":\"\",\n",
    "    \"asset_contract_addresses\":\"\",\n",
    "    \"token_ids\":\"\",\n",
    "    \"limit\":20,\n",
    "    \"offset\":0    \n",
    "}\n",
    "\n",
    "filters_asset = {\n",
    "    \"asset_contract_address\":\"0x0239769a1adf4def9f07da824b80b9c4fcb59593\",\n",
    "    \"token_id\":\"1\"\n",
    "}\n",
    "\n",
    "filters_contract = {\n",
    "    \"asset_contract_address\":\"0x06012c8cf97bead5deae237070f9587f8e7a266d\"\n",
    "}\n",
    "\n",
    "filters_collection = {\n",
    "    \"collection_slug\":\"mutant-ape-yacht-club\"\n",
    "}\n",
    "\n",
    "filters_collection_stats = {\n",
    "    \"collection_slug\":\"toyboogers\"\n",
    "}"
   ]
  },
  {
   "cell_type": "markdown",
   "metadata": {},
   "source": [
    "## Method"
   ]
  },
  {
   "cell_type": "code",
   "execution_count": 17,
   "metadata": {},
   "outputs": [],
   "source": [
    "def response_as_json(selected_filter_type):\n",
    "    # If filter value is not empty, add it to filter collection\n",
    "    # filter collection is then used in url to make the query.\n",
    "    filter_collection = ''\n",
    "    \n",
    "    if selected_filter_type=='assets':\n",
    "        filter_dict = filters_assets\n",
    "    elif selected_filter_type=='events':\n",
    "        filter_dict = filters_events\n",
    "    elif selected_filter_type=='collections':\n",
    "        filter_dict = filters_collections\n",
    "    elif selected_filter_type=='bundles':\n",
    "        filter_dict = filters_bundles\n",
    "    elif selected_filter_type=='asset':\n",
    "        filter_dict = filters_asset\n",
    "    elif selected_filter_type=='asset_contract':\n",
    "        filter_dict = filters_contract\n",
    "    elif selected_filter_type=='collection':\n",
    "        filter_dict = filters_collection\n",
    "    elif selected_filter_type=='collection_stats':\n",
    "        filter_dict = filters_collection_stats\n",
    "    \n",
    "    for filter_name, filter_value in filter_dict.items():\n",
    "        if filter_value != '':\n",
    "            if selected_filter_type in ['asset', 'asset_contract', 'collection']:\n",
    "                print('FRIENDLY WARNING!!!')\n",
    "                print('Double check required fields in query parameters for {}'.format(selected_filter_type))\n",
    "                filter_collection = filter_collection+'{}/'.format(filter_value)\n",
    "            elif selected_filter_type == 'collection_stats':\n",
    "                filter_collection = '{}'.format(filter_value)\n",
    "            else:\n",
    "                filter_collection = filter_collection+'{}={}&'.format(filter_name, filter_value)\n",
    "\n",
    "    # Remove last ? \n",
    "    if selected_filter_type != 'collection_stats':\n",
    "        filter_collection=filter_collection[:-1]   \n",
    "    \n",
    "    if selected_filter_type in ['asset', 'asset_contract', 'collection']:\n",
    "        url = \"https://api.opensea.io/api/v1/{}/{}\".format(selected_filter_type, filter_collection)\n",
    "    elif selected_filter_type == 'collection_stats':\n",
    "        url = \"https://api.opensea.io/api/v1/collection/{}/stats\".format(filter_collection)\n",
    "    else:\n",
    "        url = \"https://api.opensea.io/api/v1/{}?{}\".format(selected_filter_type, filter_collection)\n",
    "    \n",
    "    print(url)\n",
    "    \n",
    "    # Headers only used in events\n",
    "    headers = {\"Accept\": \"application/json\"}\n",
    "\n",
    "    if 'events' not in url:\n",
    "        response = requests.request(\"GET\", url)\n",
    "    elif 'stats' not in url:\n",
    "        response = requests.request(\"GET\", url)\n",
    "    else:\n",
    "#         response = requests.request(\"GET\", url, headers=headers)\n",
    "        response = requests.get(url, headers=headers)\n",
    "\n",
    "    # Convert str outcome to dictionary\n",
    "#     response_dict = json.loads(response.text)\n",
    "    return url\n",
    "#     return response_dict"
   ]
  },
  {
   "cell_type": "code",
   "execution_count": 18,
   "metadata": {},
   "outputs": [
    {
     "name": "stdout",
     "output_type": "stream",
     "text": [
      "https://api.opensea.io/api/v1/assets?token_ids=1&collection=mutant-ape-yacht-club\n"
     ]
    }
   ],
   "source": [
    "response = response_as_json(\"assets\")"
   ]
  },
  {
   "cell_type": "code",
   "execution_count": 19,
   "metadata": {},
   "outputs": [
    {
     "data": {
      "text/plain": [
       "'https://api.opensea.io/api/v1/assets?token_ids=1&collection=mutant-ape-yacht-club'"
      ]
     },
     "execution_count": 19,
     "metadata": {},
     "output_type": "execute_result"
    }
   ],
   "source": [
    "response"
   ]
  },
  {
   "cell_type": "code",
   "execution_count": 21,
   "metadata": {},
   "outputs": [
    {
     "name": "stdout",
     "output_type": "stream",
     "text": [
      "<Response [403]>\n"
     ]
    }
   ],
   "source": [
    "import requests\n",
    "\n",
    "# url = \"https://api.opensea.io/api/v1/assets?order_direction=desc&limit=20&include_orders=false\"\n",
    "\n",
    "headers = {\"Accept\": \"application/json\"}\n",
    "\n",
    "response2 = requests.get(response, headers=headers)\n",
    "\n",
    "print(response2)"
   ]
  },
  {
   "cell_type": "code",
   "execution_count": null,
   "metadata": {},
   "outputs": [],
   "source": []
  },
  {
   "cell_type": "code",
   "execution_count": null,
   "metadata": {},
   "outputs": [],
   "source": []
  }
 ],
 "metadata": {
  "kernelspec": {
   "display_name": "Python 3 (ipykernel)",
   "language": "python",
   "name": "python3"
  },
  "language_info": {
   "codemirror_mode": {
    "name": "ipython",
    "version": 3
   },
   "file_extension": ".py",
   "mimetype": "text/x-python",
   "name": "python",
   "nbconvert_exporter": "python",
   "pygments_lexer": "ipython3",
   "version": "3.8.5"
  }
 },
 "nbformat": 4,
 "nbformat_minor": 4
}
