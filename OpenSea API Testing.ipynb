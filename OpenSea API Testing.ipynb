{
 "cells": [
  {
   "cell_type": "markdown",
   "metadata": {},
   "source": [
    "# OpenSea NFT API\n",
    "https://docs.opensea.io/reference/api-overview"
   ]
  },
  {
   "cell_type": "code",
   "execution_count": 1,
   "metadata": {},
   "outputs": [],
   "source": [
    "import json\n",
    "import requests"
   ]
  },
  {
   "cell_type": "markdown",
   "metadata": {},
   "source": [
    "## Filters (Query Parameters)"
   ]
  },
  {
   "cell_type": "code",
   "execution_count": 92,
   "metadata": {},
   "outputs": [],
   "source": [
    "filters_assets = {\n",
    "    \"owner\":'',\n",
    "    \"token_ids\":'',\n",
    "    \"asset_contract_address\":'',\n",
    "    \"asset_contract_addresses\":'',\n",
    "    \"order_by\":'',\n",
    "    \"order_direction\":'desc',\n",
    "    \"offset\":0,\n",
    "    \"limit\":20,\n",
    "    \"collection\":''\n",
    "}\n",
    "\n",
    "filters_events = {\n",
    "    \"asset_contract_address\":'',\n",
    "    \"collection_slug\":'',\n",
    "    \"token_id\":'',\n",
    "    \"account_address\":'',\n",
    "    \"event_type\":'',\n",
    "    \"only_opensea\":'false',\n",
    "    \"auction_type\":'',\n",
    "    \"offset\":0,\n",
    "    \"limit\":20,\n",
    "    \"occurred_before\":'',\n",
    "    \"occurred_after\":''\n",
    "}\n",
    "\n",
    "filters_collections = {\n",
    "    \"asset_owner\":\"\",\n",
    "    \"offset\":0,\n",
    "    \"limit\":300\n",
    "}\n",
    "\n",
    "filters_bundles = {\n",
    "    \"on_sale\":\"\",\n",
    "    \"owner\":\"\",\n",
    "    \"asset_contract_address\":\"\",\n",
    "    \"asset_contract_addresses\":\"\",\n",
    "    \"token_ids\":\"\",\n",
    "    \"limit\":20,\n",
    "    \"offset\":0    \n",
    "}\n",
    "\n",
    "filters_asset = {\n",
    "    \"asset_contract_address\":\"0xb47e3cd837ddf8e4c57f05d70ab865de6e193bbb\",\n",
    "    \"token_id\":\"1\"\n",
    "}\n",
    "\n",
    "filters_contract = {\n",
    "    \"asset_contract_address\":\"0x06012c8cf97bead5deae237070f9587f8e7a266d\"\n",
    "}\n",
    "\n",
    "filters_collection = {\n",
    "    \"collection_slug\":\"doodles-official\"\n",
    "}\n",
    "\n",
    "filters_collection_stats = {\n",
    "    \"collection_slug\":\"doodles-official\"\n",
    "}"
   ]
  },
  {
   "cell_type": "markdown",
   "metadata": {},
   "source": [
    "## Method"
   ]
  },
  {
   "cell_type": "code",
   "execution_count": 106,
   "metadata": {},
   "outputs": [],
   "source": [
    "def filter_params_joiner(selected_filter_type):\n",
    "    # If filter value is not empty, add it to filter collection\n",
    "    # filter collection is then used in url to make the query.\n",
    "    filter_collection = ''\n",
    "    \n",
    "    if selected_filter_type=='assets':\n",
    "        filter_dict = filters_assets\n",
    "    elif selected_filter_type=='events':\n",
    "        filter_dict = filters_events\n",
    "    elif selected_filter_type=='collections':\n",
    "        filter_dict = filters_collections\n",
    "    elif selected_filter_type=='bundles':\n",
    "        filter_dict = filters_bundles\n",
    "    elif selected_filter_type=='asset':\n",
    "        filter_dict = filters_asset\n",
    "    elif selected_filter_type=='asset_contract':\n",
    "        filter_dict = filters_contract\n",
    "    elif selected_filter_type=='collection':\n",
    "        filter_dict = filters_collection\n",
    "    elif selected_filter_type=='collection_stats':\n",
    "        filter_dict = filters_collection_stats\n",
    "    \n",
    "    for filter_name, filter_value in filter_dict.items():\n",
    "        if filter_value != '':\n",
    "            if selected_filter_type in ['asset', 'asset_contract', 'collection']:\n",
    "                print('FRIENDLY WARNING!!!')\n",
    "                print('Double check required fields in query parameters for {}'.format(selected_filter_type))\n",
    "                filter_collection = filter_collection+'{}/'.format(filter_value)\n",
    "            elif selected_filter_type == 'collection_stats':\n",
    "                filter_collection = '{}'.format(filter_value)\n",
    "            else:\n",
    "                filter_collection = filter_collection+'{}={}&'.format(filter_name, filter_value)\n",
    "\n",
    "    # Remove last ? \n",
    "    if selected_filter_type != 'collection_stats':\n",
    "        filter_collection=filter_collection[:-1]   \n",
    "    \n",
    "    if selected_filter_type in ['asset', 'asset_contract', 'collection']:\n",
    "        url = \"https://api.opensea.io/api/v1/{}/{}\".format(selected_filter_type, filter_collection)\n",
    "    elif selected_filter_type == 'collection_stats':\n",
    "        url = \"https://api.opensea.io/api/v1/collection/{}/stats\".format(filter_collection)\n",
    "    else:\n",
    "        url = \"https://api.opensea.io/api/v1/{}?{}\".format(selected_filter_type, filter_collection)\n",
    "    return url"
   ]
  },
  {
   "cell_type": "code",
   "execution_count": null,
   "metadata": {},
   "outputs": [],
   "source": []
  },
  {
   "cell_type": "code",
   "execution_count": 107,
   "metadata": {},
   "outputs": [],
   "source": [
    "url = filter_params_joiner('collection_stats')\n",
    "\n",
    "# Headers only used in events\n",
    "headers = {\"Accept\": \"application/json\"}\n",
    "\n",
    "if 'events' not in url:\n",
    "    response = requests.request(\"GET\", url)\n",
    "elif 'stats' not in url:\n",
    "    response = requests.request(\"GET\", url)\n",
    "else:\n",
    "    response = requests.request(\"GET\", url, headers=headers)\n",
    "\n",
    "\n",
    "# Convert str outcome to dictionary\n",
    "response_dict = json.loads(response.text)"
   ]
  },
  {
   "cell_type": "code",
   "execution_count": 108,
   "metadata": {},
   "outputs": [
    {
     "data": {
      "text/plain": [
       "'https://api.opensea.io/api/v1/collection/doodles-official/stats'"
      ]
     },
     "execution_count": 108,
     "metadata": {},
     "output_type": "execute_result"
    }
   ],
   "source": [
    "url"
   ]
  },
  {
   "cell_type": "code",
   "execution_count": 109,
   "metadata": {},
   "outputs": [
    {
     "data": {
      "text/plain": [
       "{'stats': {'one_day_volume': 968.7002000000002,\n",
       "  'one_day_change': -0.6417823064229153,\n",
       "  'one_day_sales': 101.0,\n",
       "  'one_day_average_price': 9.591091089108913,\n",
       "  'seven_day_volume': 7200.792544078012,\n",
       "  'seven_day_change': 5.313050291518278,\n",
       "  'seven_day_sales': 1010.0,\n",
       "  'seven_day_average_price': 7.129497568394071,\n",
       "  'thirty_day_volume': 12773.875329425253,\n",
       "  'thirty_day_change': 0.08386335523871315,\n",
       "  'thirty_day_sales': 2498.0,\n",
       "  'thirty_day_average_price': 5.113641044605786,\n",
       "  'total_volume': 39139.289018381925,\n",
       "  'total_sales': 16176.0,\n",
       "  'total_supply': 9999.0,\n",
       "  'count': 9999.0,\n",
       "  'num_owners': 5467,\n",
       "  'average_price': 2.4195900728475475,\n",
       "  'num_reports': 3,\n",
       "  'market_cap': 71287.84618637232,\n",
       "  'floor_price': 6.49}}"
      ]
     },
     "execution_count": 109,
     "metadata": {},
     "output_type": "execute_result"
    }
   ],
   "source": [
    "response_dict"
   ]
  },
  {
   "cell_type": "code",
   "execution_count": null,
   "metadata": {},
   "outputs": [],
   "source": []
  },
  {
   "cell_type": "code",
   "execution_count": null,
   "metadata": {},
   "outputs": [],
   "source": []
  },
  {
   "cell_type": "code",
   "execution_count": null,
   "metadata": {},
   "outputs": [],
   "source": []
  },
  {
   "cell_type": "code",
   "execution_count": null,
   "metadata": {},
   "outputs": [],
   "source": []
  },
  {
   "cell_type": "code",
   "execution_count": null,
   "metadata": {},
   "outputs": [],
   "source": []
  },
  {
   "cell_type": "code",
   "execution_count": null,
   "metadata": {},
   "outputs": [],
   "source": []
  }
 ],
 "metadata": {
  "kernelspec": {
   "display_name": "Python 3",
   "language": "python",
   "name": "python3"
  },
  "language_info": {
   "codemirror_mode": {
    "name": "ipython",
    "version": 3
   },
   "file_extension": ".py",
   "mimetype": "text/x-python",
   "name": "python",
   "nbconvert_exporter": "python",
   "pygments_lexer": "ipython3",
   "version": "3.8.5"
  }
 },
 "nbformat": 4,
 "nbformat_minor": 4
}
