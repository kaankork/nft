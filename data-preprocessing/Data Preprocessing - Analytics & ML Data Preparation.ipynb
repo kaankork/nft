{
 "cells": [
  {
   "cell_type": "markdown",
   "id": "5168ffdc",
   "metadata": {},
   "source": [
    "The goal of this notebook is to filter down the preprocessed dataset so that it only contains relevant columns needed for Analytics & ML purposes."
   ]
  },
  {
   "cell_type": "code",
   "execution_count": 1,
   "id": "4d2487f5",
   "metadata": {},
   "outputs": [],
   "source": [
    "import pandas as pd"
   ]
  },
  {
   "cell_type": "code",
   "execution_count": 2,
   "id": "a79128d4",
   "metadata": {},
   "outputs": [],
   "source": [
    "df = pd.read_csv('../data/mutant-ape-collection_PREPROCESSED.csv', index_col=0)"
   ]
  },
  {
   "cell_type": "code",
   "execution_count": 4,
   "id": "e3f93c7b",
   "metadata": {},
   "outputs": [
    {
     "data": {
      "text/plain": [
       "id                                                                    42188424\n",
       "token_id                                                                     0\n",
       "asset_contract_address              0x60e4d786628fea6478f785a6d7e704777c86a7c6\n",
       "permalink                    https://opensea.io/assets/0x60e4d786628fea6478...\n",
       "traits                       [{'trait_type': 'Mouth', 'value': 'M1 Bored Un...\n",
       "image_original_url           https://ipfs.io/ipfs/QmURua8bNrAwX76Tp6G9t6Los...\n",
       "created_date                                        2021-08-29T00:41:59.548458\n",
       "current_price                                      Not on sale. Taking offers.\n",
       "last_sale_total_price                                           Not available.\n",
       "last_sale_event_timestamp                                       Not available.\n",
       "value_background                                                     M1 Purple\n",
       "display_type_background                                                    NaN\n",
       "max_value_background                                                       NaN\n",
       "trait_count_background                                                    1730\n",
       "order_background                                                           NaN\n",
       "value_clothes                                                          M1 Toga\n",
       "display_type_clothes                                                       NaN\n",
       "max_value_clothes                                                          NaN\n",
       "trait_count_clothes                                                        298\n",
       "order_clothes                                                              NaN\n",
       "value_earring                                                                -\n",
       "display_type_earring                                                         -\n",
       "max_value_earring                                                            -\n",
       "trait_count_earring                                                          -\n",
       "order_earring                                                                -\n",
       "value_eyes                                                          M1 Scumbag\n",
       "display_type_eyes                                                          NaN\n",
       "max_value_eyes                                                             NaN\n",
       "trait_count_eyes                                                           301\n",
       "order_eyes                                                                 NaN\n",
       "value_fur                                                           M1 Cheetah\n",
       "display_type_fur                                                           NaN\n",
       "max_value_fur                                                              NaN\n",
       "trait_count_fur                                                            550\n",
       "order_fur                                                                  NaN\n",
       "value_hat                                                                    -\n",
       "display_type_hat                                                             -\n",
       "max_value_hat                                                                -\n",
       "trait_count_hat                                                              -\n",
       "order_hat                                                                    -\n",
       "value_mouth                                                  M1 Bored Unshaven\n",
       "display_type_mouth                                                         NaN\n",
       "max_value_mouth                                                            NaN\n",
       "trait_count_mouth                                                         2073\n",
       "order_mouth                                                                NaN\n",
       "Name: 0, dtype: object"
      ]
     },
     "execution_count": 4,
     "metadata": {},
     "output_type": "execute_result"
    }
   ],
   "source": [
    "df.iloc[0]"
   ]
  },
  {
   "cell_type": "code",
   "execution_count": 3,
   "id": "13fdcf48",
   "metadata": {},
   "outputs": [
    {
     "data": {
      "text/plain": [
       "Index(['id', 'token_id', 'asset_contract_address', 'permalink', 'traits',\n",
       "       'image_original_url', 'created_date', 'current_price',\n",
       "       'last_sale_total_price', 'last_sale_event_timestamp',\n",
       "       'value_background', 'display_type_background', 'max_value_background',\n",
       "       'trait_count_background', 'order_background', 'value_clothes',\n",
       "       'display_type_clothes', 'max_value_clothes', 'trait_count_clothes',\n",
       "       'order_clothes', 'value_earring', 'display_type_earring',\n",
       "       'max_value_earring', 'trait_count_earring', 'order_earring',\n",
       "       'value_eyes', 'display_type_eyes', 'max_value_eyes', 'trait_count_eyes',\n",
       "       'order_eyes', 'value_fur', 'display_type_fur', 'max_value_fur',\n",
       "       'trait_count_fur', 'order_fur', 'value_hat', 'display_type_hat',\n",
       "       'max_value_hat', 'trait_count_hat', 'order_hat', 'value_mouth',\n",
       "       'display_type_mouth', 'max_value_mouth', 'trait_count_mouth',\n",
       "       'order_mouth'],\n",
       "      dtype='object')"
      ]
     },
     "execution_count": 3,
     "metadata": {},
     "output_type": "execute_result"
    }
   ],
   "source": [
    "df.columns"
   ]
  },
  {
   "cell_type": "code",
   "execution_count": null,
   "id": "7a3b7a66",
   "metadata": {},
   "outputs": [],
   "source": [
    "cols2keep=[\n",
    "    \"id\",\n",
    "    \"token_id\",\n",
    "    \"permalink\",\n",
    "    \"image_original_url\",\n",
    "    \"current_price\",\n",
    "    \"last_sale_total_price\",\n",
    "    \"value_background\",\n",
    "    \"value_earring\",\n",
    "    \"value_eyes\",\n",
    "    \"value_fur\",\n",
    "    \"value_mouth\"\n",
    "]"
   ]
  }
 ],
 "metadata": {
  "kernelspec": {
   "display_name": "Python 3 (ipykernel)",
   "language": "python",
   "name": "python3"
  },
  "language_info": {
   "codemirror_mode": {
    "name": "ipython",
    "version": 3
   },
   "file_extension": ".py",
   "mimetype": "text/x-python",
   "name": "python",
   "nbconvert_exporter": "python",
   "pygments_lexer": "ipython3",
   "version": "3.8.5"
  }
 },
 "nbformat": 4,
 "nbformat_minor": 5
}
