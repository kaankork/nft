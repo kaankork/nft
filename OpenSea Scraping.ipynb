{
 "cells": [
  {
   "cell_type": "code",
   "execution_count": 4,
   "metadata": {},
   "outputs": [],
   "source": [
    "from bs4 import BeautifulSoup\n",
    "import requests"
   ]
  },
  {
   "cell_type": "code",
   "execution_count": 5,
   "metadata": {},
   "outputs": [],
   "source": [
    "url='https://opensea.io/collection/mutant-ape-yacht-club'"
   ]
  },
  {
   "cell_type": "code",
   "execution_count": 6,
   "metadata": {},
   "outputs": [],
   "source": [
    "page = requests.get(url)\n",
    "soup = BeautifulSoup(page.content, 'html.parser')"
   ]
  },
  {
   "cell_type": "code",
   "execution_count": 24,
   "metadata": {},
   "outputs": [],
   "source": [
    "table_roster = soup.find(lambda tag: tag.name=='img' and tag.has_attr('class') and tag['class']==\"Image--image\") \n",
    "rows_roster = soup.findAll('div') "
   ]
  },
  {
   "cell_type": "code",
   "execution_count": 25,
   "metadata": {},
   "outputs": [
    {
     "data": {
      "text/plain": [
       "[<div id=\"cf-wrapper\">\n",
       " <div class=\"cf-alert cf-alert-error cf-cookie-error hidden\" data-translate=\"enable_cookies\" id=\"cookie-alert\">Please enable cookies.</div>\n",
       " <div class=\"p-0\" id=\"cf-error-details\">\n",
       " <header class=\"mx-auto pt-10 lg:pt-6 lg:px-8 w-240 lg:w-full mb-15 antialiased\">\n",
       " <h1 class=\"inline-block md:block mr-2 md:mb-2 font-light text-60 md:text-3xl text-black-dark leading-tight\">\n",
       " <span data-translate=\"error\">Error</span>\n",
       " <span>1020</span>\n",
       " </h1>\n",
       " <span class=\"inline-block md:block heading-ray-id font-mono text-15 lg:text-sm lg:leading-relaxed\">Ray ID: 6c90a45e2e2b6925 •</span>\n",
       " <span class=\"inline-block md:block heading-ray-id font-mono text-15 lg:text-sm lg:leading-relaxed\">2022-01-05 23:56:14 UTC</span>\n",
       " <h2 class=\"text-gray-600 leading-1.3 text-3xl lg:text-2xl font-light\">Access denied</h2>\n",
       " </header>\n",
       " <section class=\"w-240 lg:w-full mx-auto mb-8 lg:px-8\">\n",
       " <div class=\"w-1/2 md:w-full\" id=\"what-happened-section\">\n",
       " <h2 class=\"text-3xl leading-tight font-normal mb-4 text-black-dark antialiased\" data-translate=\"what_happened\">What happened?</h2>\n",
       " <p>This website is using a security service to protect itself from online attacks.</p>\n",
       " </div>\n",
       " </section>\n",
       " <div class=\"cf-error-footer cf-wrapper w-240 lg:w-full py-10 sm:py-4 sm:px-8 mx-auto text-center sm:text-left border-solid border-0 border-t border-gray-300\">\n",
       " <p class=\"text-13\">\n",
       " <span class=\"cf-footer-item sm:block sm:mb-1\">Cloudflare Ray ID: <strong class=\"font-semibold\">6c90a45e2e2b6925</strong></span>\n",
       " <span class=\"cf-footer-separator sm:hidden\">•</span>\n",
       " <span class=\"cf-footer-item sm:block sm:mb-1\"><span>Your IP</span>: 138.246.3.135</span>\n",
       " <span class=\"cf-footer-separator sm:hidden\">•</span>\n",
       " <span class=\"cf-footer-item sm:block sm:mb-1\"><span>Performance &amp; security by</span> <a href=\"https://www.cloudflare.com/5xx-error-landing\" id=\"brand_link\" rel=\"noopener noreferrer\" target=\"_blank\">Cloudflare</a></span>\n",
       " </p>\n",
       " </div><!-- /.error-footer -->\n",
       " </div><!-- /#cf-error-details -->\n",
       " </div>,\n",
       " <div class=\"cf-alert cf-alert-error cf-cookie-error hidden\" data-translate=\"enable_cookies\" id=\"cookie-alert\">Please enable cookies.</div>,\n",
       " <div class=\"p-0\" id=\"cf-error-details\">\n",
       " <header class=\"mx-auto pt-10 lg:pt-6 lg:px-8 w-240 lg:w-full mb-15 antialiased\">\n",
       " <h1 class=\"inline-block md:block mr-2 md:mb-2 font-light text-60 md:text-3xl text-black-dark leading-tight\">\n",
       " <span data-translate=\"error\">Error</span>\n",
       " <span>1020</span>\n",
       " </h1>\n",
       " <span class=\"inline-block md:block heading-ray-id font-mono text-15 lg:text-sm lg:leading-relaxed\">Ray ID: 6c90a45e2e2b6925 •</span>\n",
       " <span class=\"inline-block md:block heading-ray-id font-mono text-15 lg:text-sm lg:leading-relaxed\">2022-01-05 23:56:14 UTC</span>\n",
       " <h2 class=\"text-gray-600 leading-1.3 text-3xl lg:text-2xl font-light\">Access denied</h2>\n",
       " </header>\n",
       " <section class=\"w-240 lg:w-full mx-auto mb-8 lg:px-8\">\n",
       " <div class=\"w-1/2 md:w-full\" id=\"what-happened-section\">\n",
       " <h2 class=\"text-3xl leading-tight font-normal mb-4 text-black-dark antialiased\" data-translate=\"what_happened\">What happened?</h2>\n",
       " <p>This website is using a security service to protect itself from online attacks.</p>\n",
       " </div>\n",
       " </section>\n",
       " <div class=\"cf-error-footer cf-wrapper w-240 lg:w-full py-10 sm:py-4 sm:px-8 mx-auto text-center sm:text-left border-solid border-0 border-t border-gray-300\">\n",
       " <p class=\"text-13\">\n",
       " <span class=\"cf-footer-item sm:block sm:mb-1\">Cloudflare Ray ID: <strong class=\"font-semibold\">6c90a45e2e2b6925</strong></span>\n",
       " <span class=\"cf-footer-separator sm:hidden\">•</span>\n",
       " <span class=\"cf-footer-item sm:block sm:mb-1\"><span>Your IP</span>: 138.246.3.135</span>\n",
       " <span class=\"cf-footer-separator sm:hidden\">•</span>\n",
       " <span class=\"cf-footer-item sm:block sm:mb-1\"><span>Performance &amp; security by</span> <a href=\"https://www.cloudflare.com/5xx-error-landing\" id=\"brand_link\" rel=\"noopener noreferrer\" target=\"_blank\">Cloudflare</a></span>\n",
       " </p>\n",
       " </div><!-- /.error-footer -->\n",
       " </div>,\n",
       " <div class=\"w-1/2 md:w-full\" id=\"what-happened-section\">\n",
       " <h2 class=\"text-3xl leading-tight font-normal mb-4 text-black-dark antialiased\" data-translate=\"what_happened\">What happened?</h2>\n",
       " <p>This website is using a security service to protect itself from online attacks.</p>\n",
       " </div>,\n",
       " <div class=\"cf-error-footer cf-wrapper w-240 lg:w-full py-10 sm:py-4 sm:px-8 mx-auto text-center sm:text-left border-solid border-0 border-t border-gray-300\">\n",
       " <p class=\"text-13\">\n",
       " <span class=\"cf-footer-item sm:block sm:mb-1\">Cloudflare Ray ID: <strong class=\"font-semibold\">6c90a45e2e2b6925</strong></span>\n",
       " <span class=\"cf-footer-separator sm:hidden\">•</span>\n",
       " <span class=\"cf-footer-item sm:block sm:mb-1\"><span>Your IP</span>: 138.246.3.135</span>\n",
       " <span class=\"cf-footer-separator sm:hidden\">•</span>\n",
       " <span class=\"cf-footer-item sm:block sm:mb-1\"><span>Performance &amp; security by</span> <a href=\"https://www.cloudflare.com/5xx-error-landing\" id=\"brand_link\" rel=\"noopener noreferrer\" target=\"_blank\">Cloudflare</a></span>\n",
       " </p>\n",
       " </div>]"
      ]
     },
     "execution_count": 25,
     "metadata": {},
     "output_type": "execute_result"
    }
   ],
   "source": [
    "rows_roster"
   ]
  },
  {
   "cell_type": "code",
   "execution_count": 12,
   "metadata": {},
   "outputs": [],
   "source": [
    "table_roster"
   ]
  },
  {
   "cell_type": "code",
   "execution_count": null,
   "metadata": {},
   "outputs": [],
   "source": [
    "print(\"\\n\".join([img['alt'] for img in div.find_all('img', alt=True)]))\n"
   ]
  },
  {
   "cell_type": "code",
   "execution_count": 22,
   "metadata": {},
   "outputs": [],
   "source": [
    "t1 = 'Imagereact__DivContainer-sc-dy59cl-0 kMPTZo Image--fade Image--isImageLoaded Image--isImageLoaderVisible AssetMedia--img'\n",
    "t2 = 'Imagereact__DivContainer-sc-dy59cl-0 kMPTZo Image--fade Image--isImageLoaded Image--isImageLoaderVisible AssetMedia--img'"
   ]
  },
  {
   "cell_type": "code",
   "execution_count": 23,
   "metadata": {},
   "outputs": [
    {
     "data": {
      "text/plain": [
       "True"
      ]
     },
     "execution_count": 23,
     "metadata": {},
     "output_type": "execute_result"
    }
   ],
   "source": [
    "t1 == t2"
   ]
  },
  {
   "cell_type": "code",
   "execution_count": null,
   "metadata": {},
   "outputs": [],
   "source": []
  }
 ],
 "metadata": {
  "kernelspec": {
   "display_name": "Python 3",
   "language": "python",
   "name": "python3"
  },
  "language_info": {
   "codemirror_mode": {
    "name": "ipython",
    "version": 3
   },
   "file_extension": ".py",
   "mimetype": "text/x-python",
   "name": "python",
   "nbconvert_exporter": "python",
   "pygments_lexer": "ipython3",
   "version": "3.8.5"
  }
 },
 "nbformat": 4,
 "nbformat_minor": 4
}
