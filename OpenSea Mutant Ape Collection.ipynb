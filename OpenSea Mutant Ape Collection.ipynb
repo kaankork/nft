{
 "cells": [
  {
   "cell_type": "markdown",
   "metadata": {},
   "source": [
    "# Task: Collect contract addresses & token_ids of all assets\n",
    "\n",
    "**Strategy**\n",
    "1. Using the assets API, start from token_id=1 and send an API request.\n",
    "2. Increment token_id by 1, send a request. \n",
    "3. Store relevant fields from the response.\n",
    "3. Keep incrementing until a threshold value, i.e. maximum token_id within the collection"
   ]
  },
  {
   "cell_type": "markdown",
   "metadata": {},
   "source": [
    "**Relevant fields**\n",
    "- token_id\n",
    "- asset_contract_address\n",
    "- permalink\n",
    "- traits\n",
    "- image_original_url\n",
    "- created_date\n",
    "- current_price\n",
    "- last_sale\n",
    "    - total_price\n",
    "    - event_timestamp"
   ]
  },
  {
   "cell_type": "markdown",
   "metadata": {},
   "source": [
    "### Libraries & Variables"
   ]
  },
  {
   "cell_type": "code",
   "execution_count": 14,
   "metadata": {},
   "outputs": [],
   "source": [
    "from request_from_opensea import response_as_json\n",
    "import pandas as pd\n",
    "from tqdm import tqdm\n",
    "pd.set_option('display.max_colwidth', 100)"
   ]
  },
  {
   "cell_type": "code",
   "execution_count": 15,
   "metadata": {},
   "outputs": [],
   "source": [
    "# https://www.coingecko.com/en/nft/mutant-ape-yacht-club\n",
    "NO_ASSETS_IN_COLLECTION = 14653"
   ]
  },
  {
   "cell_type": "markdown",
   "metadata": {},
   "source": [
    "### Prototyping"
   ]
  },
  {
   "cell_type": "code",
   "execution_count": 31,
   "metadata": {},
   "outputs": [],
   "source": [
    "response = response_as_json('assets', 10003)\n",
    "# response = response_as_json('assets', NO_ASSETS_IN_COLLECTION)"
   ]
  },
  {
   "cell_type": "code",
   "execution_count": 34,
   "metadata": {},
   "outputs": [
    {
     "name": "stdout",
     "output_type": "stream",
     "text": [
      "empty\n"
     ]
    }
   ],
   "source": [
    "if response['assets'] == []:\n",
    "    print('empty')"
   ]
  },
  {
   "cell_type": "code",
   "execution_count": 29,
   "metadata": {},
   "outputs": [
    {
     "data": {
      "text/plain": [
       "{'id': 43120681,\n",
       " 'token_id': '10002',\n",
       " 'num_sales': 0,\n",
       " 'background_color': None,\n",
       " 'image_url': 'https://lh3.googleusercontent.com/pBEAE_KKNByXyRhkwmAqgESC-c-2esTce347Xb1r25n3DScRBbRhe_6Vp4f_sj4utTyWVH1nVp3L8zSeCYV5YYPS8QjClfWo9b3OuQ',\n",
       " 'image_preview_url': 'https://lh3.googleusercontent.com/pBEAE_KKNByXyRhkwmAqgESC-c-2esTce347Xb1r25n3DScRBbRhe_6Vp4f_sj4utTyWVH1nVp3L8zSeCYV5YYPS8QjClfWo9b3OuQ=s250',\n",
       " 'image_thumbnail_url': 'https://lh3.googleusercontent.com/pBEAE_KKNByXyRhkwmAqgESC-c-2esTce347Xb1r25n3DScRBbRhe_6Vp4f_sj4utTyWVH1nVp3L8zSeCYV5YYPS8QjClfWo9b3OuQ=s128',\n",
       " 'image_original_url': 'https://ipfs.io/ipfs/QmSasKMZpHYcZJyhM6h3wdhcWzbR3X5wVFjik3Z64UPywm',\n",
       " 'animation_url': None,\n",
       " 'animation_original_url': None,\n",
       " 'name': None,\n",
       " 'description': None,\n",
       " 'external_link': None,\n",
       " 'asset_contract': {'address': '0x60e4d786628fea6478f785a6d7e704777c86a7c6',\n",
       "  'asset_contract_type': 'non-fungible',\n",
       "  'created_date': '2021-08-28T23:59:47.536067',\n",
       "  'name': 'MutantApeYachtClub',\n",
       "  'nft_version': '3.0',\n",
       "  'opensea_version': None,\n",
       "  'owner': 70753020,\n",
       "  'schema_name': 'ERC721',\n",
       "  'symbol': 'MAYC',\n",
       "  'total_supply': '0',\n",
       "  'description': 'The MUTANT APE YACHT CLUB is a collection of up to 20,000 Mutant Apes that can only be created by exposing an existing Bored Ape to a vial of MUTANT SERUM or by minting a Mutant Ape in the public sale.',\n",
       "  'external_link': None,\n",
       "  'image_url': 'https://lh3.googleusercontent.com/lHexKRMpw-aoSyB1WdFBff5yfANLReFxHzt1DOj_sg7mS14yARpuvYcUtsyyx-Nkpk6WTcUPFoG53VnLJezYi8hAs0OxNZwlw6Y-dmI=s120',\n",
       "  'default_to_fiat': False,\n",
       "  'dev_buyer_fee_basis_points': 0,\n",
       "  'dev_seller_fee_basis_points': 250,\n",
       "  'only_proxied_transfers': False,\n",
       "  'opensea_buyer_fee_basis_points': 0,\n",
       "  'opensea_seller_fee_basis_points': 250,\n",
       "  'buyer_fee_basis_points': 0,\n",
       "  'seller_fee_basis_points': 500,\n",
       "  'payout_address': '0xaae7ac476b117bccafe2f05f582906be44bc8ff1'},\n",
       " 'permalink': 'https://opensea.io/assets/0x60e4d786628fea6478f785a6d7e704777c86a7c6/10002',\n",
       " 'collection': {'banner_image_url': 'https://lh3.googleusercontent.com/5c-HcdLMinTg3LvEwXYZYC-u5nN22Pn5ivTPYA4pVEsWJHU1rCobhUlHSFjZgCHPGSmcGMQGCrDCQU8BfSfygmL7Uol9MRQZt6-gqA=s2500',\n",
       "  'chat_url': None,\n",
       "  'created_date': '2021-08-29T00:41:59.548458',\n",
       "  'default_to_fiat': False,\n",
       "  'description': 'The MUTANT APE YACHT CLUB is a collection of up to 20,000 Mutant Apes that can only be created by exposing an existing Bored Ape to a vial of MUTANT SERUM or by minting a Mutant Ape in the public sale.',\n",
       "  'dev_buyer_fee_basis_points': '0',\n",
       "  'dev_seller_fee_basis_points': '250',\n",
       "  'discord_url': None,\n",
       "  'display_data': {'card_display_style': 'contain'},\n",
       "  'external_url': None,\n",
       "  'featured': False,\n",
       "  'featured_image_url': None,\n",
       "  'hidden': False,\n",
       "  'safelist_request_status': 'verified',\n",
       "  'image_url': 'https://lh3.googleusercontent.com/lHexKRMpw-aoSyB1WdFBff5yfANLReFxHzt1DOj_sg7mS14yARpuvYcUtsyyx-Nkpk6WTcUPFoG53VnLJezYi8hAs0OxNZwlw6Y-dmI=s120',\n",
       "  'is_subject_to_whitelist': False,\n",
       "  'large_image_url': None,\n",
       "  'medium_username': None,\n",
       "  'name': 'Mutant Ape Yacht Club',\n",
       "  'only_proxied_transfers': False,\n",
       "  'opensea_buyer_fee_basis_points': '0',\n",
       "  'opensea_seller_fee_basis_points': '250',\n",
       "  'payout_address': '0xaae7ac476b117bccafe2f05f582906be44bc8ff1',\n",
       "  'require_email': False,\n",
       "  'short_description': None,\n",
       "  'slug': 'mutant-ape-yacht-club',\n",
       "  'telegram_url': None,\n",
       "  'twitter_username': None,\n",
       "  'instagram_username': None,\n",
       "  'wiki_url': None},\n",
       " 'decimals': 0,\n",
       " 'token_metadata': 'https://boredapeyachtclub.com/api/mutants/10002',\n",
       " 'owner': {'user': {'username': 'gordongoner'},\n",
       "  'profile_img_url': 'https://storage.googleapis.com/opensea-static/opensea-profile/3.png',\n",
       "  'address': '0x46efbaedc92067e6d60e84ed6395099723252496',\n",
       "  'config': ''},\n",
       " 'sell_orders': None,\n",
       " 'creator': {'user': {'username': 'MutantApeYachtClub'},\n",
       "  'profile_img_url': 'https://storage.googleapis.com/opensea-static/opensea-profile/22.png',\n",
       "  'address': '0x9056d15c49b19df52ffad1e6c11627f035c0c960',\n",
       "  'config': 'verified'},\n",
       " 'traits': [{'trait_type': 'Background',\n",
       "   'value': 'M1 Orange',\n",
       "   'display_type': None,\n",
       "   'max_value': None,\n",
       "   'trait_count': 1693,\n",
       "   'order': None},\n",
       "  {'trait_type': 'Mouth',\n",
       "   'value': 'M1 Grin',\n",
       "   'display_type': None,\n",
       "   'max_value': None,\n",
       "   'trait_count': 950,\n",
       "   'order': None},\n",
       "  {'trait_type': 'Eyes',\n",
       "   'value': 'M1 Blue Beams',\n",
       "   'display_type': None,\n",
       "   'max_value': None,\n",
       "   'trait_count': 79,\n",
       "   'order': None},\n",
       "  {'trait_type': 'Fur',\n",
       "   'value': 'M1 Robot',\n",
       "   'display_type': None,\n",
       "   'max_value': None,\n",
       "   'trait_count': 384,\n",
       "   'order': None},\n",
       "  {'trait_type': 'Clothes',\n",
       "   'value': 'M1 Vietnam Jacket',\n",
       "   'display_type': None,\n",
       "   'max_value': None,\n",
       "   'trait_count': 290,\n",
       "   'order': None}],\n",
       " 'last_sale': None,\n",
       " 'top_bid': None,\n",
       " 'listing_date': None,\n",
       " 'is_presale': False,\n",
       " 'transfer_fee_payment_token': None,\n",
       " 'transfer_fee': None}"
      ]
     },
     "execution_count": 29,
     "metadata": {},
     "output_type": "execute_result"
    }
   ],
   "source": [
    "response['assets'][0]"
   ]
  },
  {
   "cell_type": "code",
   "execution_count": 6,
   "metadata": {},
   "outputs": [
    {
     "data": {
      "text/plain": [
       "4200000000000.0"
      ]
     },
     "execution_count": 6,
     "metadata": {},
     "output_type": "execute_result"
    }
   ],
   "source": [
    "int(float(response['assets'][0]['sell_orders'][0]['current_price']))/100000000"
   ]
  },
  {
   "cell_type": "markdown",
   "metadata": {},
   "source": [
    "### Create Pandas Dataframe"
   ]
  },
  {
   "cell_type": "code",
   "execution_count": 46,
   "metadata": {},
   "outputs": [],
   "source": [
    "columns = [\"id\",\n",
    "           \"token_id\", \n",
    "           \"asset_contract_address\", \n",
    "           \"permalink\", \n",
    "           \"traits\", \n",
    "           \"image_original_url\",\n",
    "           \"created_date\", \n",
    "           \"current_price\", \n",
    "           \"last_sale_total_price\", \n",
    "           \"last_sale_event_timestamp\"]\n",
    "df = pd.DataFrame(columns=columns)"
   ]
  },
  {
   "cell_type": "markdown",
   "metadata": {},
   "source": [
    "### Data Collection"
   ]
  },
  {
   "cell_type": "code",
   "execution_count": 47,
   "metadata": {},
   "outputs": [
    {
     "name": "stderr",
     "output_type": "stream",
     "text": [
      "100%|███████████████████████████████████████████████████████████████████████████████████████████████████████████████████████████████| 14652/14652 [2:19:21<00:00,  1.75it/s]\n"
     ]
    }
   ],
   "source": [
    "for i in tqdm(range(NO_ASSETS_IN_COLLECTION-1)):\n",
    "    \n",
    "    response = response_as_json('assets', i)\n",
    "    \n",
    "    # If entry has an empty response, skip. Else, collect data.\n",
    "    if response['assets']==[]:\n",
    "        continue\n",
    "    else:\n",
    "        response_base = response['assets'][0]\n",
    "\n",
    "        # Custom logic for current_price\n",
    "        if response_base['sell_orders'] is None:\n",
    "            current_price='Not on sale. Taking offers.'\n",
    "        else:\n",
    "            current_price=int(float(response_base['sell_orders'][0]['current_price']))/1000000000000000000\n",
    "\n",
    "        # Custom logic for last_sale_total_price & last_sale_event_timestamp\n",
    "        if response_base['last_sale'] is None:\n",
    "            last_sale_total_price='Not available.'\n",
    "            last_sale_event_timestamp='Not available.'\n",
    "        else:\n",
    "            last_sale_total_price=int(response_base['last_sale']['total_price'])/1000000000000000000\n",
    "            last_sale_event_timestamp=response_base['last_sale']['event_timestamp']\n",
    "\n",
    "        df = df.append({\n",
    "            \"id\":response_base['id'], \n",
    "            \"token_id\":response_base['token_id'],\n",
    "            \"asset_contract_address\":response_base['asset_contract']['address'], \n",
    "            \"permalink\":response_base['permalink'], \n",
    "            \"traits\":response_base['traits'], \n",
    "            \"image_original_url\":response_base['image_original_url'],\n",
    "            \"created_date\":response_base['collection']['created_date'], \n",
    "            \"current_price\":current_price, \n",
    "            \"last_sale_total_price\":last_sale_total_price, \n",
    "            \"last_sale_event_timestamp\":last_sale_event_timestamp\n",
    "        }, ignore_index=True)"
   ]
  },
  {
   "cell_type": "code",
   "execution_count": 48,
   "metadata": {},
   "outputs": [
    {
     "data": {
      "text/html": [
       "<div>\n",
       "<style scoped>\n",
       "    .dataframe tbody tr th:only-of-type {\n",
       "        vertical-align: middle;\n",
       "    }\n",
       "\n",
       "    .dataframe tbody tr th {\n",
       "        vertical-align: top;\n",
       "    }\n",
       "\n",
       "    .dataframe thead th {\n",
       "        text-align: right;\n",
       "    }\n",
       "</style>\n",
       "<table border=\"1\" class=\"dataframe\">\n",
       "  <thead>\n",
       "    <tr style=\"text-align: right;\">\n",
       "      <th></th>\n",
       "      <th>id</th>\n",
       "      <th>token_id</th>\n",
       "      <th>asset_contract_address</th>\n",
       "      <th>permalink</th>\n",
       "      <th>traits</th>\n",
       "      <th>image_original_url</th>\n",
       "      <th>created_date</th>\n",
       "      <th>current_price</th>\n",
       "      <th>last_sale_total_price</th>\n",
       "      <th>last_sale_event_timestamp</th>\n",
       "    </tr>\n",
       "  </thead>\n",
       "  <tbody>\n",
       "    <tr>\n",
       "      <th>0</th>\n",
       "      <td>42188424</td>\n",
       "      <td>0</td>\n",
       "      <td>0x60e4d786628fea6478f785a6d7e704777c86a7c6</td>\n",
       "      <td>https://opensea.io/assets/0x60e4d786628fea6478f785a6d7e704777c86a7c6/0</td>\n",
       "      <td>[{'trait_type': 'Mouth', 'value': 'M1 Bored Unshaven', 'display_type': None, 'max_value': None, ...</td>\n",
       "      <td>https://ipfs.io/ipfs/QmURua8bNrAwX76Tp6G9t6Lospdxyt61JGy3UsXY7skfR1</td>\n",
       "      <td>2021-08-29T00:41:59.548458</td>\n",
       "      <td>Not on sale. Taking offers.</td>\n",
       "      <td>Not available.</td>\n",
       "      <td>Not available.</td>\n",
       "    </tr>\n",
       "    <tr>\n",
       "      <th>1</th>\n",
       "      <td>42189017</td>\n",
       "      <td>1</td>\n",
       "      <td>0x60e4d786628fea6478f785a6d7e704777c86a7c6</td>\n",
       "      <td>https://opensea.io/assets/0x60e4d786628fea6478f785a6d7e704777c86a7c6/1</td>\n",
       "      <td>[{'trait_type': 'Mouth', 'value': 'M1 Dumbfounded', 'display_type': None, 'max_value': None, 'tr...</td>\n",
       "      <td>https://ipfs.io/ipfs/QmVFPvu8aeJHXyNVxpfftVHaKjRsbtH6dXWscJ2TukM3xi</td>\n",
       "      <td>2021-08-29T00:41:59.548458</td>\n",
       "      <td>420.0</td>\n",
       "      <td>7.0</td>\n",
       "      <td>2021-09-03T02:03:48</td>\n",
       "    </tr>\n",
       "  </tbody>\n",
       "</table>\n",
       "</div>"
      ],
      "text/plain": [
       "         id token_id                      asset_contract_address  \\\n",
       "0  42188424        0  0x60e4d786628fea6478f785a6d7e704777c86a7c6   \n",
       "1  42189017        1  0x60e4d786628fea6478f785a6d7e704777c86a7c6   \n",
       "\n",
       "                                                                permalink  \\\n",
       "0  https://opensea.io/assets/0x60e4d786628fea6478f785a6d7e704777c86a7c6/0   \n",
       "1  https://opensea.io/assets/0x60e4d786628fea6478f785a6d7e704777c86a7c6/1   \n",
       "\n",
       "                                                                                                traits  \\\n",
       "0  [{'trait_type': 'Mouth', 'value': 'M1 Bored Unshaven', 'display_type': None, 'max_value': None, ...   \n",
       "1  [{'trait_type': 'Mouth', 'value': 'M1 Dumbfounded', 'display_type': None, 'max_value': None, 'tr...   \n",
       "\n",
       "                                                    image_original_url  \\\n",
       "0  https://ipfs.io/ipfs/QmURua8bNrAwX76Tp6G9t6Lospdxyt61JGy3UsXY7skfR1   \n",
       "1  https://ipfs.io/ipfs/QmVFPvu8aeJHXyNVxpfftVHaKjRsbtH6dXWscJ2TukM3xi   \n",
       "\n",
       "                 created_date                current_price  \\\n",
       "0  2021-08-29T00:41:59.548458  Not on sale. Taking offers.   \n",
       "1  2021-08-29T00:41:59.548458                        420.0   \n",
       "\n",
       "  last_sale_total_price last_sale_event_timestamp  \n",
       "0        Not available.            Not available.  \n",
       "1                   7.0       2021-09-03T02:03:48  "
      ]
     },
     "execution_count": 48,
     "metadata": {},
     "output_type": "execute_result"
    }
   ],
   "source": [
    "df.head(2)"
   ]
  },
  {
   "cell_type": "code",
   "execution_count": 49,
   "metadata": {},
   "outputs": [
    {
     "data": {
      "text/html": [
       "<div>\n",
       "<style scoped>\n",
       "    .dataframe tbody tr th:only-of-type {\n",
       "        vertical-align: middle;\n",
       "    }\n",
       "\n",
       "    .dataframe tbody tr th {\n",
       "        vertical-align: top;\n",
       "    }\n",
       "\n",
       "    .dataframe thead th {\n",
       "        text-align: right;\n",
       "    }\n",
       "</style>\n",
       "<table border=\"1\" class=\"dataframe\">\n",
       "  <thead>\n",
       "    <tr style=\"text-align: right;\">\n",
       "      <th></th>\n",
       "      <th>id</th>\n",
       "      <th>token_id</th>\n",
       "      <th>asset_contract_address</th>\n",
       "      <th>permalink</th>\n",
       "      <th>traits</th>\n",
       "      <th>image_original_url</th>\n",
       "      <th>created_date</th>\n",
       "      <th>current_price</th>\n",
       "      <th>last_sale_total_price</th>\n",
       "      <th>last_sale_event_timestamp</th>\n",
       "    </tr>\n",
       "  </thead>\n",
       "  <tbody>\n",
       "    <tr>\n",
       "      <th>11841</th>\n",
       "      <td>42532217</td>\n",
       "      <td>14646</td>\n",
       "      <td>0x60e4d786628fea6478f785a6d7e704777c86a7c6</td>\n",
       "      <td>https://opensea.io/assets/0x60e4d786628fea6478f785a6d7e704777c86a7c6/14646</td>\n",
       "      <td>[{'trait_type': 'Background', 'value': 'M1 Aquamarine', 'display_type': None, 'max_value': None,...</td>\n",
       "      <td>https://ipfs.io/ipfs/QmUVXi6k83uqr8svAwdHwwu2o6S5uoGT6R9bcX5fbH5Ndi</td>\n",
       "      <td>2021-08-29T00:41:59.548458</td>\n",
       "      <td>Not on sale. Taking offers.</td>\n",
       "      <td>Not available.</td>\n",
       "      <td>Not available.</td>\n",
       "    </tr>\n",
       "    <tr>\n",
       "      <th>11842</th>\n",
       "      <td>42346257</td>\n",
       "      <td>14648</td>\n",
       "      <td>0x60e4d786628fea6478f785a6d7e704777c86a7c6</td>\n",
       "      <td>https://opensea.io/assets/0x60e4d786628fea6478f785a6d7e704777c86a7c6/14648</td>\n",
       "      <td>[{'trait_type': 'Mouth', 'value': 'M1 Bored Unshaven', 'display_type': None, 'max_value': None, ...</td>\n",
       "      <td>https://ipfs.io/ipfs/QmWn8H7tDnB4DkoevNmHisnARZy5YiySBtYgohKZrfq9Jb</td>\n",
       "      <td>2021-08-29T00:41:59.548458</td>\n",
       "      <td>Not on sale. Taking offers.</td>\n",
       "      <td>9.0</td>\n",
       "      <td>2021-12-26T07:46:49</td>\n",
       "    </tr>\n",
       "  </tbody>\n",
       "</table>\n",
       "</div>"
      ],
      "text/plain": [
       "             id token_id                      asset_contract_address  \\\n",
       "11841  42532217    14646  0x60e4d786628fea6478f785a6d7e704777c86a7c6   \n",
       "11842  42346257    14648  0x60e4d786628fea6478f785a6d7e704777c86a7c6   \n",
       "\n",
       "                                                                        permalink  \\\n",
       "11841  https://opensea.io/assets/0x60e4d786628fea6478f785a6d7e704777c86a7c6/14646   \n",
       "11842  https://opensea.io/assets/0x60e4d786628fea6478f785a6d7e704777c86a7c6/14648   \n",
       "\n",
       "                                                                                                    traits  \\\n",
       "11841  [{'trait_type': 'Background', 'value': 'M1 Aquamarine', 'display_type': None, 'max_value': None,...   \n",
       "11842  [{'trait_type': 'Mouth', 'value': 'M1 Bored Unshaven', 'display_type': None, 'max_value': None, ...   \n",
       "\n",
       "                                                        image_original_url  \\\n",
       "11841  https://ipfs.io/ipfs/QmUVXi6k83uqr8svAwdHwwu2o6S5uoGT6R9bcX5fbH5Ndi   \n",
       "11842  https://ipfs.io/ipfs/QmWn8H7tDnB4DkoevNmHisnARZy5YiySBtYgohKZrfq9Jb   \n",
       "\n",
       "                     created_date                current_price  \\\n",
       "11841  2021-08-29T00:41:59.548458  Not on sale. Taking offers.   \n",
       "11842  2021-08-29T00:41:59.548458  Not on sale. Taking offers.   \n",
       "\n",
       "      last_sale_total_price last_sale_event_timestamp  \n",
       "11841        Not available.            Not available.  \n",
       "11842                   9.0       2021-12-26T07:46:49  "
      ]
     },
     "execution_count": 49,
     "metadata": {},
     "output_type": "execute_result"
    }
   ],
   "source": [
    "df.tail(2)"
   ]
  },
  {
   "cell_type": "markdown",
   "metadata": {},
   "source": [
    "### Save as CSV"
   ]
  },
  {
   "cell_type": "code",
   "execution_count": 50,
   "metadata": {},
   "outputs": [],
   "source": [
    "df.to_csv('./data/mutant-ape-collection.csv')"
   ]
  },
  {
   "cell_type": "code",
   "execution_count": null,
   "metadata": {},
   "outputs": [],
   "source": []
  }
 ],
 "metadata": {
  "kernelspec": {
   "display_name": "Python 3 (ipykernel)",
   "language": "python",
   "name": "python3"
  },
  "language_info": {
   "codemirror_mode": {
    "name": "ipython",
    "version": 3
   },
   "file_extension": ".py",
   "mimetype": "text/x-python",
   "name": "python",
   "nbconvert_exporter": "python",
   "pygments_lexer": "ipython3",
   "version": "3.8.5"
  }
 },
 "nbformat": 4,
 "nbformat_minor": 4
}